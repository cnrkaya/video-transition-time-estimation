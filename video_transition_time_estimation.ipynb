{
  "nbformat": 4,
  "nbformat_minor": 0,
  "metadata": {
    "colab": {
      "name": "video-transition-time-estimation.ipynb",
      "provenance": []
    },
    "kernelspec": {
      "name": "python3",
      "display_name": "Python 3"
    }
  },
  "cells": [
    {
      "cell_type": "markdown",
      "metadata": {
        "id": "lSkZX0E1YD35"
      },
      "source": [
        "This notebook includes, preparing the dataset for training and applying the regression techniques contained in scikit-learn library to estimate video transcoding time.\n",
        "\n",
        "\n",
        "> Dataset and detailed information: https://archive.ics.uci.edu/ml/datasets/Online+Video+Characteristics+and+Transcoding+Time+Dataset\n",
        "\n"
      ]
    },
    {
      "cell_type": "markdown",
      "metadata": {
        "id": "WmaJz0CMfo45"
      },
      "source": [
        "## 1.Download the Data Set\n",
        "(Colab notebook is used)"
      ]
    },
    {
      "cell_type": "code",
      "metadata": {
        "id": "qux9RxIlDfVy",
        "outputId": "73e68e4e-848c-4214-bf5b-c7f83b52d619",
        "colab": {
          "base_uri": "https://localhost:8080/",
          "height": 70
        }
      },
      "source": [
        "#download the data set\n",
        "!curl https://archive.ics.uci.edu/ml/machine-learning-databases/00335/online_video_dataset.zip --output online_video_dataset.zip"
      ],
      "execution_count": 1,
      "outputs": [
        {
          "output_type": "stream",
          "text": [
            "  % Total    % Received % Xferd  Average Speed   Time    Time     Time  Current\n",
            "                                 Dload  Upload   Total   Spent    Left  Speed\n",
            "100 14.8M  100 14.8M    0     0  12.4M      0  0:00:01  0:00:01 --:--:-- 12.4M\n"
          ],
          "name": "stdout"
        }
      ]
    },
    {
      "cell_type": "code",
      "metadata": {
        "id": "79J4MIp0LnT7",
        "outputId": "211322f3-f5da-4324-9b03-a3e5744f0a41",
        "colab": {
          "base_uri": "https://localhost:8080/",
          "height": 88
        }
      },
      "source": [
        "#unzip\n",
        "!unzip online_video_dataset.zip"
      ],
      "execution_count": 2,
      "outputs": [
        {
          "output_type": "stream",
          "text": [
            "Archive:  online_video_dataset.zip\n",
            "  inflating: README.txt              \n",
            "  inflating: transcoding_mesurment.tsv  \n",
            "  inflating: youtube_videos.tsv      \n"
          ],
          "name": "stdout"
        }
      ]
    },
    {
      "cell_type": "markdown",
      "metadata": {
        "id": "q3eEIoCthJgH"
      },
      "source": [
        "## 2. Data Pre-Process"
      ]
    },
    {
      "cell_type": "markdown",
      "metadata": {
        "id": "uN2wlIEFSF0f"
      },
      "source": [
        "### 2.1. Import and Analyze the Data"
      ]
    },
    {
      "cell_type": "code",
      "metadata": {
        "id": "LbTsgU2KLTJR"
      },
      "source": [
        "#import required libraries\n",
        "import pandas as pd\n",
        "import numpy as np\n",
        "import matplotlib.pyplot as plt\n",
        "import seaborn as sns\n"
      ],
      "execution_count": 3,
      "outputs": []
    },
    {
      "cell_type": "code",
      "metadata": {
        "id": "h7xdJrbFMCKa",
        "outputId": "86d59132-3e6b-4ef4-b1cb-ce724b5dc069",
        "colab": {
          "base_uri": "https://localhost:8080/",
          "height": 194
        }
      },
      "source": [
        "df = pd.read_csv(\"transcoding_mesurment.tsv\",sep='\\t')\n",
        "df.head()\n"
      ],
      "execution_count": 4,
      "outputs": [
        {
          "output_type": "execute_result",
          "data": {
            "text/html": [
              "<div>\n",
              "<style scoped>\n",
              "    .dataframe tbody tr th:only-of-type {\n",
              "        vertical-align: middle;\n",
              "    }\n",
              "\n",
              "    .dataframe tbody tr th {\n",
              "        vertical-align: top;\n",
              "    }\n",
              "\n",
              "    .dataframe thead th {\n",
              "        text-align: right;\n",
              "    }\n",
              "</style>\n",
              "<table border=\"1\" class=\"dataframe\">\n",
              "  <thead>\n",
              "    <tr style=\"text-align: right;\">\n",
              "      <th></th>\n",
              "      <th>id</th>\n",
              "      <th>duration</th>\n",
              "      <th>codec</th>\n",
              "      <th>width</th>\n",
              "      <th>height</th>\n",
              "      <th>bitrate</th>\n",
              "      <th>framerate</th>\n",
              "      <th>i</th>\n",
              "      <th>p</th>\n",
              "      <th>b</th>\n",
              "      <th>frames</th>\n",
              "      <th>i_size</th>\n",
              "      <th>p_size</th>\n",
              "      <th>b_size</th>\n",
              "      <th>size</th>\n",
              "      <th>o_codec</th>\n",
              "      <th>o_bitrate</th>\n",
              "      <th>o_framerate</th>\n",
              "      <th>o_width</th>\n",
              "      <th>o_height</th>\n",
              "      <th>umem</th>\n",
              "      <th>utime</th>\n",
              "    </tr>\n",
              "  </thead>\n",
              "  <tbody>\n",
              "    <tr>\n",
              "      <th>0</th>\n",
              "      <td>04t6-jw9czg</td>\n",
              "      <td>130.35667</td>\n",
              "      <td>mpeg4</td>\n",
              "      <td>176</td>\n",
              "      <td>144</td>\n",
              "      <td>54590</td>\n",
              "      <td>12.0</td>\n",
              "      <td>27</td>\n",
              "      <td>1537</td>\n",
              "      <td>0</td>\n",
              "      <td>1564</td>\n",
              "      <td>64483</td>\n",
              "      <td>825054</td>\n",
              "      <td>0</td>\n",
              "      <td>889537</td>\n",
              "      <td>mpeg4</td>\n",
              "      <td>56000</td>\n",
              "      <td>12.0</td>\n",
              "      <td>176</td>\n",
              "      <td>144</td>\n",
              "      <td>22508</td>\n",
              "      <td>0.612</td>\n",
              "    </tr>\n",
              "    <tr>\n",
              "      <th>1</th>\n",
              "      <td>04t6-jw9czg</td>\n",
              "      <td>130.35667</td>\n",
              "      <td>mpeg4</td>\n",
              "      <td>176</td>\n",
              "      <td>144</td>\n",
              "      <td>54590</td>\n",
              "      <td>12.0</td>\n",
              "      <td>27</td>\n",
              "      <td>1537</td>\n",
              "      <td>0</td>\n",
              "      <td>1564</td>\n",
              "      <td>64483</td>\n",
              "      <td>825054</td>\n",
              "      <td>0</td>\n",
              "      <td>889537</td>\n",
              "      <td>mpeg4</td>\n",
              "      <td>56000</td>\n",
              "      <td>12.0</td>\n",
              "      <td>320</td>\n",
              "      <td>240</td>\n",
              "      <td>25164</td>\n",
              "      <td>0.980</td>\n",
              "    </tr>\n",
              "    <tr>\n",
              "      <th>2</th>\n",
              "      <td>04t6-jw9czg</td>\n",
              "      <td>130.35667</td>\n",
              "      <td>mpeg4</td>\n",
              "      <td>176</td>\n",
              "      <td>144</td>\n",
              "      <td>54590</td>\n",
              "      <td>12.0</td>\n",
              "      <td>27</td>\n",
              "      <td>1537</td>\n",
              "      <td>0</td>\n",
              "      <td>1564</td>\n",
              "      <td>64483</td>\n",
              "      <td>825054</td>\n",
              "      <td>0</td>\n",
              "      <td>889537</td>\n",
              "      <td>mpeg4</td>\n",
              "      <td>56000</td>\n",
              "      <td>12.0</td>\n",
              "      <td>480</td>\n",
              "      <td>360</td>\n",
              "      <td>29228</td>\n",
              "      <td>1.216</td>\n",
              "    </tr>\n",
              "    <tr>\n",
              "      <th>3</th>\n",
              "      <td>04t6-jw9czg</td>\n",
              "      <td>130.35667</td>\n",
              "      <td>mpeg4</td>\n",
              "      <td>176</td>\n",
              "      <td>144</td>\n",
              "      <td>54590</td>\n",
              "      <td>12.0</td>\n",
              "      <td>27</td>\n",
              "      <td>1537</td>\n",
              "      <td>0</td>\n",
              "      <td>1564</td>\n",
              "      <td>64483</td>\n",
              "      <td>825054</td>\n",
              "      <td>0</td>\n",
              "      <td>889537</td>\n",
              "      <td>mpeg4</td>\n",
              "      <td>56000</td>\n",
              "      <td>12.0</td>\n",
              "      <td>640</td>\n",
              "      <td>480</td>\n",
              "      <td>34316</td>\n",
              "      <td>1.692</td>\n",
              "    </tr>\n",
              "    <tr>\n",
              "      <th>4</th>\n",
              "      <td>04t6-jw9czg</td>\n",
              "      <td>130.35667</td>\n",
              "      <td>mpeg4</td>\n",
              "      <td>176</td>\n",
              "      <td>144</td>\n",
              "      <td>54590</td>\n",
              "      <td>12.0</td>\n",
              "      <td>27</td>\n",
              "      <td>1537</td>\n",
              "      <td>0</td>\n",
              "      <td>1564</td>\n",
              "      <td>64483</td>\n",
              "      <td>825054</td>\n",
              "      <td>0</td>\n",
              "      <td>889537</td>\n",
              "      <td>mpeg4</td>\n",
              "      <td>56000</td>\n",
              "      <td>12.0</td>\n",
              "      <td>1280</td>\n",
              "      <td>720</td>\n",
              "      <td>58528</td>\n",
              "      <td>3.456</td>\n",
              "    </tr>\n",
              "  </tbody>\n",
              "</table>\n",
              "</div>"
            ],
            "text/plain": [
              "            id   duration  codec  width  ...  o_width  o_height   umem  utime\n",
              "0  04t6-jw9czg  130.35667  mpeg4    176  ...      176       144  22508  0.612\n",
              "1  04t6-jw9czg  130.35667  mpeg4    176  ...      320       240  25164  0.980\n",
              "2  04t6-jw9czg  130.35667  mpeg4    176  ...      480       360  29228  1.216\n",
              "3  04t6-jw9czg  130.35667  mpeg4    176  ...      640       480  34316  1.692\n",
              "4  04t6-jw9czg  130.35667  mpeg4    176  ...     1280       720  58528  3.456\n",
              "\n",
              "[5 rows x 22 columns]"
            ]
          },
          "metadata": {
            "tags": []
          },
          "execution_count": 4
        }
      ]
    },
    {
      "cell_type": "code",
      "metadata": {
        "id": "uLgqE30VMLN4",
        "outputId": "d76d8032-1041-4552-fc03-0cb648c265b0",
        "colab": {
          "base_uri": "https://localhost:8080/",
          "height": 302
        }
      },
      "source": [
        "df.describe()"
      ],
      "execution_count": 5,
      "outputs": [
        {
          "output_type": "execute_result",
          "data": {
            "text/html": [
              "<div>\n",
              "<style scoped>\n",
              "    .dataframe tbody tr th:only-of-type {\n",
              "        vertical-align: middle;\n",
              "    }\n",
              "\n",
              "    .dataframe tbody tr th {\n",
              "        vertical-align: top;\n",
              "    }\n",
              "\n",
              "    .dataframe thead th {\n",
              "        text-align: right;\n",
              "    }\n",
              "</style>\n",
              "<table border=\"1\" class=\"dataframe\">\n",
              "  <thead>\n",
              "    <tr style=\"text-align: right;\">\n",
              "      <th></th>\n",
              "      <th>duration</th>\n",
              "      <th>width</th>\n",
              "      <th>height</th>\n",
              "      <th>bitrate</th>\n",
              "      <th>framerate</th>\n",
              "      <th>i</th>\n",
              "      <th>p</th>\n",
              "      <th>b</th>\n",
              "      <th>frames</th>\n",
              "      <th>i_size</th>\n",
              "      <th>p_size</th>\n",
              "      <th>b_size</th>\n",
              "      <th>size</th>\n",
              "      <th>o_bitrate</th>\n",
              "      <th>o_framerate</th>\n",
              "      <th>o_width</th>\n",
              "      <th>o_height</th>\n",
              "      <th>umem</th>\n",
              "      <th>utime</th>\n",
              "    </tr>\n",
              "  </thead>\n",
              "  <tbody>\n",
              "    <tr>\n",
              "      <th>count</th>\n",
              "      <td>68784.000000</td>\n",
              "      <td>68784.000000</td>\n",
              "      <td>68784.000000</td>\n",
              "      <td>6.878400e+04</td>\n",
              "      <td>68784.000000</td>\n",
              "      <td>68784.000000</td>\n",
              "      <td>68784.000000</td>\n",
              "      <td>68784.000000</td>\n",
              "      <td>68784.000000</td>\n",
              "      <td>6.878400e+04</td>\n",
              "      <td>6.878400e+04</td>\n",
              "      <td>68784.0</td>\n",
              "      <td>6.878400e+04</td>\n",
              "      <td>6.878400e+04</td>\n",
              "      <td>68784.000000</td>\n",
              "      <td>68784.000000</td>\n",
              "      <td>68784.000000</td>\n",
              "      <td>68784.000000</td>\n",
              "      <td>68784.000000</td>\n",
              "    </tr>\n",
              "    <tr>\n",
              "      <th>mean</th>\n",
              "      <td>286.413921</td>\n",
              "      <td>624.934171</td>\n",
              "      <td>412.572226</td>\n",
              "      <td>6.937015e+05</td>\n",
              "      <td>23.241321</td>\n",
              "      <td>100.868312</td>\n",
              "      <td>6531.692210</td>\n",
              "      <td>9.147854</td>\n",
              "      <td>6641.708377</td>\n",
              "      <td>2.838987e+06</td>\n",
              "      <td>2.218057e+07</td>\n",
              "      <td>0.0</td>\n",
              "      <td>2.502294e+07</td>\n",
              "      <td>1.395036e+06</td>\n",
              "      <td>21.190862</td>\n",
              "      <td>802.336357</td>\n",
              "      <td>503.825541</td>\n",
              "      <td>228224.717900</td>\n",
              "      <td>9.996355</td>\n",
              "    </tr>\n",
              "    <tr>\n",
              "      <th>std</th>\n",
              "      <td>287.257650</td>\n",
              "      <td>463.169069</td>\n",
              "      <td>240.615472</td>\n",
              "      <td>1.095628e+06</td>\n",
              "      <td>7.224848</td>\n",
              "      <td>84.764791</td>\n",
              "      <td>6075.871744</td>\n",
              "      <td>92.516177</td>\n",
              "      <td>6153.342453</td>\n",
              "      <td>4.325137e+06</td>\n",
              "      <td>5.097306e+07</td>\n",
              "      <td>0.0</td>\n",
              "      <td>5.414402e+07</td>\n",
              "      <td>1.749352e+06</td>\n",
              "      <td>6.668703</td>\n",
              "      <td>609.959797</td>\n",
              "      <td>315.970438</td>\n",
              "      <td>97430.878373</td>\n",
              "      <td>16.107429</td>\n",
              "    </tr>\n",
              "    <tr>\n",
              "      <th>min</th>\n",
              "      <td>31.080000</td>\n",
              "      <td>176.000000</td>\n",
              "      <td>144.000000</td>\n",
              "      <td>8.384000e+03</td>\n",
              "      <td>5.705752</td>\n",
              "      <td>7.000000</td>\n",
              "      <td>175.000000</td>\n",
              "      <td>0.000000</td>\n",
              "      <td>192.000000</td>\n",
              "      <td>1.164800e+04</td>\n",
              "      <td>3.384500e+04</td>\n",
              "      <td>0.0</td>\n",
              "      <td>1.918790e+05</td>\n",
              "      <td>5.600000e+04</td>\n",
              "      <td>12.000000</td>\n",
              "      <td>176.000000</td>\n",
              "      <td>144.000000</td>\n",
              "      <td>22508.000000</td>\n",
              "      <td>0.184000</td>\n",
              "    </tr>\n",
              "    <tr>\n",
              "      <th>25%</th>\n",
              "      <td>106.765000</td>\n",
              "      <td>320.000000</td>\n",
              "      <td>240.000000</td>\n",
              "      <td>1.343340e+05</td>\n",
              "      <td>15.000000</td>\n",
              "      <td>39.000000</td>\n",
              "      <td>2374.000000</td>\n",
              "      <td>0.000000</td>\n",
              "      <td>2417.000000</td>\n",
              "      <td>3.933950e+05</td>\n",
              "      <td>1.851539e+06</td>\n",
              "      <td>0.0</td>\n",
              "      <td>2.258222e+06</td>\n",
              "      <td>1.090000e+05</td>\n",
              "      <td>15.000000</td>\n",
              "      <td>320.000000</td>\n",
              "      <td>240.000000</td>\n",
              "      <td>216820.000000</td>\n",
              "      <td>2.096000</td>\n",
              "    </tr>\n",
              "    <tr>\n",
              "      <th>50%</th>\n",
              "      <td>239.141660</td>\n",
              "      <td>480.000000</td>\n",
              "      <td>360.000000</td>\n",
              "      <td>2.911500e+05</td>\n",
              "      <td>25.021740</td>\n",
              "      <td>80.000000</td>\n",
              "      <td>5515.000000</td>\n",
              "      <td>0.000000</td>\n",
              "      <td>5628.000000</td>\n",
              "      <td>9.458650e+05</td>\n",
              "      <td>6.166260e+06</td>\n",
              "      <td>0.0</td>\n",
              "      <td>7.881069e+06</td>\n",
              "      <td>5.390000e+05</td>\n",
              "      <td>24.000000</td>\n",
              "      <td>480.000000</td>\n",
              "      <td>360.000000</td>\n",
              "      <td>219480.000000</td>\n",
              "      <td>4.408000</td>\n",
              "    </tr>\n",
              "    <tr>\n",
              "      <th>75%</th>\n",
              "      <td>379.320000</td>\n",
              "      <td>640.000000</td>\n",
              "      <td>480.000000</td>\n",
              "      <td>6.529670e+05</td>\n",
              "      <td>29.000000</td>\n",
              "      <td>138.000000</td>\n",
              "      <td>9155.000000</td>\n",
              "      <td>0.000000</td>\n",
              "      <td>9232.000000</td>\n",
              "      <td>3.392479e+06</td>\n",
              "      <td>1.515506e+07</td>\n",
              "      <td>0.0</td>\n",
              "      <td>1.977335e+07</td>\n",
              "      <td>3.000000e+06</td>\n",
              "      <td>25.000000</td>\n",
              "      <td>1280.000000</td>\n",
              "      <td>720.000000</td>\n",
              "      <td>219656.000000</td>\n",
              "      <td>10.433000</td>\n",
              "    </tr>\n",
              "    <tr>\n",
              "      <th>max</th>\n",
              "      <td>25844.086000</td>\n",
              "      <td>1920.000000</td>\n",
              "      <td>1080.000000</td>\n",
              "      <td>7.628466e+06</td>\n",
              "      <td>48.000000</td>\n",
              "      <td>5170.000000</td>\n",
              "      <td>304959.000000</td>\n",
              "      <td>9407.000000</td>\n",
              "      <td>310129.000000</td>\n",
              "      <td>9.082855e+07</td>\n",
              "      <td>7.689970e+08</td>\n",
              "      <td>0.0</td>\n",
              "      <td>8.067111e+08</td>\n",
              "      <td>5.000000e+06</td>\n",
              "      <td>29.970000</td>\n",
              "      <td>1920.000000</td>\n",
              "      <td>1080.000000</td>\n",
              "      <td>711824.000000</td>\n",
              "      <td>224.574000</td>\n",
              "    </tr>\n",
              "  </tbody>\n",
              "</table>\n",
              "</div>"
            ],
            "text/plain": [
              "           duration         width  ...           umem         utime\n",
              "count  68784.000000  68784.000000  ...   68784.000000  68784.000000\n",
              "mean     286.413921    624.934171  ...  228224.717900      9.996355\n",
              "std      287.257650    463.169069  ...   97430.878373     16.107429\n",
              "min       31.080000    176.000000  ...   22508.000000      0.184000\n",
              "25%      106.765000    320.000000  ...  216820.000000      2.096000\n",
              "50%      239.141660    480.000000  ...  219480.000000      4.408000\n",
              "75%      379.320000    640.000000  ...  219656.000000     10.433000\n",
              "max    25844.086000   1920.000000  ...  711824.000000    224.574000\n",
              "\n",
              "[8 rows x 19 columns]"
            ]
          },
          "metadata": {
            "tags": []
          },
          "execution_count": 5
        }
      ]
    },
    {
      "cell_type": "code",
      "metadata": {
        "id": "axJjuY7aMYzs",
        "outputId": "9bafeec3-aa4a-425f-c543-0f004d77d8b7",
        "colab": {
          "base_uri": "https://localhost:8080/",
          "height": 532
        }
      },
      "source": [
        "df.info()"
      ],
      "execution_count": 6,
      "outputs": [
        {
          "output_type": "stream",
          "text": [
            "<class 'pandas.core.frame.DataFrame'>\n",
            "RangeIndex: 68784 entries, 0 to 68783\n",
            "Data columns (total 22 columns):\n",
            " #   Column       Non-Null Count  Dtype  \n",
            "---  ------       --------------  -----  \n",
            " 0   id           68784 non-null  object \n",
            " 1   duration     68784 non-null  float64\n",
            " 2   codec        68784 non-null  object \n",
            " 3   width        68784 non-null  int64  \n",
            " 4   height       68784 non-null  int64  \n",
            " 5   bitrate      68784 non-null  int64  \n",
            " 6   framerate    68784 non-null  float64\n",
            " 7   i            68784 non-null  int64  \n",
            " 8   p            68784 non-null  int64  \n",
            " 9   b            68784 non-null  int64  \n",
            " 10  frames       68784 non-null  int64  \n",
            " 11  i_size       68784 non-null  int64  \n",
            " 12  p_size       68784 non-null  int64  \n",
            " 13  b_size       68784 non-null  int64  \n",
            " 14  size         68784 non-null  int64  \n",
            " 15  o_codec      68784 non-null  object \n",
            " 16  o_bitrate    68784 non-null  int64  \n",
            " 17  o_framerate  68784 non-null  float64\n",
            " 18  o_width      68784 non-null  int64  \n",
            " 19  o_height     68784 non-null  int64  \n",
            " 20  umem         68784 non-null  int64  \n",
            " 21  utime        68784 non-null  float64\n",
            "dtypes: float64(4), int64(15), object(3)\n",
            "memory usage: 11.5+ MB\n"
          ],
          "name": "stdout"
        }
      ]
    },
    {
      "cell_type": "markdown",
      "metadata": {
        "id": "xKJnHIL9R9Fm"
      },
      "source": [
        "### 2.2. Correlation"
      ]
    },
    {
      "cell_type": "code",
      "metadata": {
        "id": "G2VHfAFLOagc",
        "outputId": "9a8215f2-5666-4586-a6b4-7675e1c0d753",
        "colab": {
          "base_uri": "https://localhost:8080/",
          "height": 428
        }
      },
      "source": [
        "corrTable = df.corr(method='pearson')\n",
        "a = corrTable['utime'].sort_values(ascending=False).to_frame()\n",
        "cm = sns.light_palette(\"green\",as_cmap=True)\n",
        "a.style.background_gradient(cmap=cm)"
      ],
      "execution_count": 7,
      "outputs": [
        {
          "output_type": "execute_result",
          "data": {
            "text/html": [
              "<style  type=\"text/css\" >\n",
              "#T_129eb066_1563_11eb_a634_0242ac1c0002row0_col0{\n",
              "            background-color:  #008000;\n",
              "            color:  #f1f1f1;\n",
              "        }#T_129eb066_1563_11eb_a634_0242ac1c0002row1_col0{\n",
              "            background-color:  #4fa74f;\n",
              "            color:  #000000;\n",
              "        }#T_129eb066_1563_11eb_a634_0242ac1c0002row2_col0{\n",
              "            background-color:  #70b770;\n",
              "            color:  #000000;\n",
              "        }#T_129eb066_1563_11eb_a634_0242ac1c0002row3_col0{\n",
              "            background-color:  #71b771;\n",
              "            color:  #000000;\n",
              "        }#T_129eb066_1563_11eb_a634_0242ac1c0002row4_col0,#T_129eb066_1563_11eb_a634_0242ac1c0002row5_col0{\n",
              "            background-color:  #c8e2c8;\n",
              "            color:  #000000;\n",
              "        }#T_129eb066_1563_11eb_a634_0242ac1c0002row6_col0{\n",
              "            background-color:  #cde5cd;\n",
              "            color:  #000000;\n",
              "        }#T_129eb066_1563_11eb_a634_0242ac1c0002row7_col0{\n",
              "            background-color:  #cee5ce;\n",
              "            color:  #000000;\n",
              "        }#T_129eb066_1563_11eb_a634_0242ac1c0002row8_col0{\n",
              "            background-color:  #d4e8d4;\n",
              "            color:  #000000;\n",
              "        }#T_129eb066_1563_11eb_a634_0242ac1c0002row9_col0,#T_129eb066_1563_11eb_a634_0242ac1c0002row10_col0{\n",
              "            background-color:  #d5e9d5;\n",
              "            color:  #000000;\n",
              "        }#T_129eb066_1563_11eb_a634_0242ac1c0002row11_col0{\n",
              "            background-color:  #d9ead9;\n",
              "            color:  #000000;\n",
              "        }#T_129eb066_1563_11eb_a634_0242ac1c0002row12_col0{\n",
              "            background-color:  #ddecdd;\n",
              "            color:  #000000;\n",
              "        }#T_129eb066_1563_11eb_a634_0242ac1c0002row13_col0,#T_129eb066_1563_11eb_a634_0242ac1c0002row14_col0{\n",
              "            background-color:  #e4f0e4;\n",
              "            color:  #000000;\n",
              "        }#T_129eb066_1563_11eb_a634_0242ac1c0002row15_col0{\n",
              "            background-color:  #e8f2e8;\n",
              "            color:  #000000;\n",
              "        }#T_129eb066_1563_11eb_a634_0242ac1c0002row16_col0,#T_129eb066_1563_11eb_a634_0242ac1c0002row17_col0{\n",
              "            background-color:  #ebf3eb;\n",
              "            color:  #000000;\n",
              "        }#T_129eb066_1563_11eb_a634_0242ac1c0002row18_col0{\n",
              "            background-color:  #000000;\n",
              "            color:  #f1f1f1;\n",
              "        }</style><table id=\"T_129eb066_1563_11eb_a634_0242ac1c0002\" ><thead>    <tr>        <th class=\"blank level0\" ></th>        <th class=\"col_heading level0 col0\" >utime</th>    </tr></thead><tbody>\n",
              "                <tr>\n",
              "                        <th id=\"T_129eb066_1563_11eb_a634_0242ac1c0002level0_row0\" class=\"row_heading level0 row0\" >utime</th>\n",
              "                        <td id=\"T_129eb066_1563_11eb_a634_0242ac1c0002row0_col0\" class=\"data row0 col0\" >1.000000</td>\n",
              "            </tr>\n",
              "            <tr>\n",
              "                        <th id=\"T_129eb066_1563_11eb_a634_0242ac1c0002level0_row1\" class=\"row_heading level0 row1\" >umem</th>\n",
              "                        <td id=\"T_129eb066_1563_11eb_a634_0242ac1c0002row1_col0\" class=\"data row1 col0\" >0.663301</td>\n",
              "            </tr>\n",
              "            <tr>\n",
              "                        <th id=\"T_129eb066_1563_11eb_a634_0242ac1c0002level0_row2\" class=\"row_heading level0 row2\" >o_width</th>\n",
              "                        <td id=\"T_129eb066_1563_11eb_a634_0242ac1c0002row2_col0\" class=\"data row2 col0\" >0.523388</td>\n",
              "            </tr>\n",
              "            <tr>\n",
              "                        <th id=\"T_129eb066_1563_11eb_a634_0242ac1c0002level0_row3\" class=\"row_heading level0 row3\" >o_height</th>\n",
              "                        <td id=\"T_129eb066_1563_11eb_a634_0242ac1c0002row3_col0\" class=\"data row3 col0\" >0.519649</td>\n",
              "            </tr>\n",
              "            <tr>\n",
              "                        <th id=\"T_129eb066_1563_11eb_a634_0242ac1c0002level0_row4\" class=\"row_heading level0 row4\" >o_bitrate</th>\n",
              "                        <td id=\"T_129eb066_1563_11eb_a634_0242ac1c0002row4_col0\" class=\"data row4 col0\" >0.155479</td>\n",
              "            </tr>\n",
              "            <tr>\n",
              "                        <th id=\"T_129eb066_1563_11eb_a634_0242ac1c0002level0_row5\" class=\"row_heading level0 row5\" >bitrate</th>\n",
              "                        <td id=\"T_129eb066_1563_11eb_a634_0242ac1c0002row5_col0\" class=\"data row5 col0\" >0.155200</td>\n",
              "            </tr>\n",
              "            <tr>\n",
              "                        <th id=\"T_129eb066_1563_11eb_a634_0242ac1c0002level0_row6\" class=\"row_heading level0 row6\" >width</th>\n",
              "                        <td id=\"T_129eb066_1563_11eb_a634_0242ac1c0002row6_col0\" class=\"data row6 col0\" >0.129861</td>\n",
              "            </tr>\n",
              "            <tr>\n",
              "                        <th id=\"T_129eb066_1563_11eb_a634_0242ac1c0002level0_row7\" class=\"row_heading level0 row7\" >height</th>\n",
              "                        <td id=\"T_129eb066_1563_11eb_a634_0242ac1c0002row7_col0\" class=\"data row7 col0\" >0.128479</td>\n",
              "            </tr>\n",
              "            <tr>\n",
              "                        <th id=\"T_129eb066_1563_11eb_a634_0242ac1c0002level0_row8\" class=\"row_heading level0 row8\" >o_framerate</th>\n",
              "                        <td id=\"T_129eb066_1563_11eb_a634_0242ac1c0002row8_col0\" class=\"data row8 col0\" >0.104043</td>\n",
              "            </tr>\n",
              "            <tr>\n",
              "                        <th id=\"T_129eb066_1563_11eb_a634_0242ac1c0002level0_row9\" class=\"row_heading level0 row9\" >p_size</th>\n",
              "                        <td id=\"T_129eb066_1563_11eb_a634_0242ac1c0002row9_col0\" class=\"data row9 col0\" >0.097644</td>\n",
              "            </tr>\n",
              "            <tr>\n",
              "                        <th id=\"T_129eb066_1563_11eb_a634_0242ac1c0002level0_row10\" class=\"row_heading level0 row10\" >size</th>\n",
              "                        <td id=\"T_129eb066_1563_11eb_a634_0242ac1c0002row10_col0\" class=\"data row10 col0\" >0.097096</td>\n",
              "            </tr>\n",
              "            <tr>\n",
              "                        <th id=\"T_129eb066_1563_11eb_a634_0242ac1c0002level0_row11\" class=\"row_heading level0 row11\" >framerate</th>\n",
              "                        <td id=\"T_129eb066_1563_11eb_a634_0242ac1c0002row11_col0\" class=\"data row11 col0\" >0.079336</td>\n",
              "            </tr>\n",
              "            <tr>\n",
              "                        <th id=\"T_129eb066_1563_11eb_a634_0242ac1c0002level0_row12\" class=\"row_heading level0 row12\" >i_size</th>\n",
              "                        <td id=\"T_129eb066_1563_11eb_a634_0242ac1c0002row12_col0\" class=\"data row12 col0\" >0.064711</td>\n",
              "            </tr>\n",
              "            <tr>\n",
              "                        <th id=\"T_129eb066_1563_11eb_a634_0242ac1c0002level0_row13\" class=\"row_heading level0 row13\" >p</th>\n",
              "                        <td id=\"T_129eb066_1563_11eb_a634_0242ac1c0002row13_col0\" class=\"data row13 col0\" >0.033201</td>\n",
              "            </tr>\n",
              "            <tr>\n",
              "                        <th id=\"T_129eb066_1563_11eb_a634_0242ac1c0002level0_row14\" class=\"row_heading level0 row14\" >frames</th>\n",
              "                        <td id=\"T_129eb066_1563_11eb_a634_0242ac1c0002row14_col0\" class=\"data row14 col0\" >0.033115</td>\n",
              "            </tr>\n",
              "            <tr>\n",
              "                        <th id=\"T_129eb066_1563_11eb_a634_0242ac1c0002level0_row15\" class=\"row_heading level0 row15\" >i</th>\n",
              "                        <td id=\"T_129eb066_1563_11eb_a634_0242ac1c0002row15_col0\" class=\"data row15 col0\" >0.018489</td>\n",
              "            </tr>\n",
              "            <tr>\n",
              "                        <th id=\"T_129eb066_1563_11eb_a634_0242ac1c0002level0_row16\" class=\"row_heading level0 row16\" >duration</th>\n",
              "                        <td id=\"T_129eb066_1563_11eb_a634_0242ac1c0002row16_col0\" class=\"data row16 col0\" >0.005533</td>\n",
              "            </tr>\n",
              "            <tr>\n",
              "                        <th id=\"T_129eb066_1563_11eb_a634_0242ac1c0002level0_row17\" class=\"row_heading level0 row17\" >b</th>\n",
              "                        <td id=\"T_129eb066_1563_11eb_a634_0242ac1c0002row17_col0\" class=\"data row17 col0\" >0.005140</td>\n",
              "            </tr>\n",
              "            <tr>\n",
              "                        <th id=\"T_129eb066_1563_11eb_a634_0242ac1c0002level0_row18\" class=\"row_heading level0 row18\" >b_size</th>\n",
              "                        <td id=\"T_129eb066_1563_11eb_a634_0242ac1c0002row18_col0\" class=\"data row18 col0\" >nan</td>\n",
              "            </tr>\n",
              "    </tbody></table>"
            ],
            "text/plain": [
              "<pandas.io.formats.style.Styler at 0x7fb172445860>"
            ]
          },
          "metadata": {
            "tags": []
          },
          "execution_count": 7
        }
      ]
    },
    {
      "cell_type": "markdown",
      "metadata": {
        "id": "pjkp_U3gSnf-"
      },
      "source": [
        "### 2.3. Define Target and Features"
      ]
    },
    {
      "cell_type": "code",
      "metadata": {
        "id": "XKJig4UXjy5W"
      },
      "source": [
        "target = df[['utime']]\n"
      ],
      "execution_count": 8,
      "outputs": []
    },
    {
      "cell_type": "code",
      "metadata": {
        "id": "W22k6f2QkPyX",
        "outputId": "46a99f53-d313-4a83-97d8-9a744025c6c2",
        "colab": {
          "base_uri": "https://localhost:8080/",
          "height": 0
        }
      },
      "source": [
        "# drop the target column and the columns with low correlation (< 0.05)\n",
        "features = df.drop(columns = ['utime','b_size','b','duration','i','frames','p','id','o_codec'])\n",
        "features.head()"
      ],
      "execution_count": 9,
      "outputs": [
        {
          "output_type": "execute_result",
          "data": {
            "text/html": [
              "<div>\n",
              "<style scoped>\n",
              "    .dataframe tbody tr th:only-of-type {\n",
              "        vertical-align: middle;\n",
              "    }\n",
              "\n",
              "    .dataframe tbody tr th {\n",
              "        vertical-align: top;\n",
              "    }\n",
              "\n",
              "    .dataframe thead th {\n",
              "        text-align: right;\n",
              "    }\n",
              "</style>\n",
              "<table border=\"1\" class=\"dataframe\">\n",
              "  <thead>\n",
              "    <tr style=\"text-align: right;\">\n",
              "      <th></th>\n",
              "      <th>codec</th>\n",
              "      <th>width</th>\n",
              "      <th>height</th>\n",
              "      <th>bitrate</th>\n",
              "      <th>framerate</th>\n",
              "      <th>i_size</th>\n",
              "      <th>p_size</th>\n",
              "      <th>size</th>\n",
              "      <th>o_bitrate</th>\n",
              "      <th>o_framerate</th>\n",
              "      <th>o_width</th>\n",
              "      <th>o_height</th>\n",
              "      <th>umem</th>\n",
              "    </tr>\n",
              "  </thead>\n",
              "  <tbody>\n",
              "    <tr>\n",
              "      <th>0</th>\n",
              "      <td>mpeg4</td>\n",
              "      <td>176</td>\n",
              "      <td>144</td>\n",
              "      <td>54590</td>\n",
              "      <td>12.0</td>\n",
              "      <td>64483</td>\n",
              "      <td>825054</td>\n",
              "      <td>889537</td>\n",
              "      <td>56000</td>\n",
              "      <td>12.0</td>\n",
              "      <td>176</td>\n",
              "      <td>144</td>\n",
              "      <td>22508</td>\n",
              "    </tr>\n",
              "    <tr>\n",
              "      <th>1</th>\n",
              "      <td>mpeg4</td>\n",
              "      <td>176</td>\n",
              "      <td>144</td>\n",
              "      <td>54590</td>\n",
              "      <td>12.0</td>\n",
              "      <td>64483</td>\n",
              "      <td>825054</td>\n",
              "      <td>889537</td>\n",
              "      <td>56000</td>\n",
              "      <td>12.0</td>\n",
              "      <td>320</td>\n",
              "      <td>240</td>\n",
              "      <td>25164</td>\n",
              "    </tr>\n",
              "    <tr>\n",
              "      <th>2</th>\n",
              "      <td>mpeg4</td>\n",
              "      <td>176</td>\n",
              "      <td>144</td>\n",
              "      <td>54590</td>\n",
              "      <td>12.0</td>\n",
              "      <td>64483</td>\n",
              "      <td>825054</td>\n",
              "      <td>889537</td>\n",
              "      <td>56000</td>\n",
              "      <td>12.0</td>\n",
              "      <td>480</td>\n",
              "      <td>360</td>\n",
              "      <td>29228</td>\n",
              "    </tr>\n",
              "    <tr>\n",
              "      <th>3</th>\n",
              "      <td>mpeg4</td>\n",
              "      <td>176</td>\n",
              "      <td>144</td>\n",
              "      <td>54590</td>\n",
              "      <td>12.0</td>\n",
              "      <td>64483</td>\n",
              "      <td>825054</td>\n",
              "      <td>889537</td>\n",
              "      <td>56000</td>\n",
              "      <td>12.0</td>\n",
              "      <td>640</td>\n",
              "      <td>480</td>\n",
              "      <td>34316</td>\n",
              "    </tr>\n",
              "    <tr>\n",
              "      <th>4</th>\n",
              "      <td>mpeg4</td>\n",
              "      <td>176</td>\n",
              "      <td>144</td>\n",
              "      <td>54590</td>\n",
              "      <td>12.0</td>\n",
              "      <td>64483</td>\n",
              "      <td>825054</td>\n",
              "      <td>889537</td>\n",
              "      <td>56000</td>\n",
              "      <td>12.0</td>\n",
              "      <td>1280</td>\n",
              "      <td>720</td>\n",
              "      <td>58528</td>\n",
              "    </tr>\n",
              "  </tbody>\n",
              "</table>\n",
              "</div>"
            ],
            "text/plain": [
              "   codec  width  height  bitrate  ...  o_framerate  o_width  o_height   umem\n",
              "0  mpeg4    176     144    54590  ...         12.0      176       144  22508\n",
              "1  mpeg4    176     144    54590  ...         12.0      320       240  25164\n",
              "2  mpeg4    176     144    54590  ...         12.0      480       360  29228\n",
              "3  mpeg4    176     144    54590  ...         12.0      640       480  34316\n",
              "4  mpeg4    176     144    54590  ...         12.0     1280       720  58528\n",
              "\n",
              "[5 rows x 13 columns]"
            ]
          },
          "metadata": {
            "tags": []
          },
          "execution_count": 9
        }
      ]
    },
    {
      "cell_type": "markdown",
      "metadata": {
        "id": "7jpxY0RGmmWx"
      },
      "source": [
        "### 2.4. One hot encoding for codec column"
      ]
    },
    {
      "cell_type": "code",
      "metadata": {
        "id": "hHDhnN-GmjzJ",
        "outputId": "42a9db9f-313e-4568-bee9-5d4ee8076d73",
        "colab": {
          "base_uri": "https://localhost:8080/",
          "height": 0
        }
      },
      "source": [
        "features['codec'].value_counts()"
      ],
      "execution_count": 10,
      "outputs": [
        {
          "output_type": "execute_result",
          "data": {
            "text/plain": [
              "h264     31545\n",
              "vp8      18387\n",
              "mpeg4    12012\n",
              "flv       6840\n",
              "Name: codec, dtype: int64"
            ]
          },
          "metadata": {
            "tags": []
          },
          "execution_count": 10
        }
      ]
    },
    {
      "cell_type": "code",
      "metadata": {
        "id": "xV9FXpeFmqSh",
        "outputId": "e94e1c9b-96f2-4d50-ac77-f0d59ee59e7d",
        "colab": {
          "base_uri": "https://localhost:8080/",
          "height": 0
        }
      },
      "source": [
        "features= pd.get_dummies(features, columns=['codec'])\n",
        "features.head()"
      ],
      "execution_count": 11,
      "outputs": [
        {
          "output_type": "execute_result",
          "data": {
            "text/html": [
              "<div>\n",
              "<style scoped>\n",
              "    .dataframe tbody tr th:only-of-type {\n",
              "        vertical-align: middle;\n",
              "    }\n",
              "\n",
              "    .dataframe tbody tr th {\n",
              "        vertical-align: top;\n",
              "    }\n",
              "\n",
              "    .dataframe thead th {\n",
              "        text-align: right;\n",
              "    }\n",
              "</style>\n",
              "<table border=\"1\" class=\"dataframe\">\n",
              "  <thead>\n",
              "    <tr style=\"text-align: right;\">\n",
              "      <th></th>\n",
              "      <th>width</th>\n",
              "      <th>height</th>\n",
              "      <th>bitrate</th>\n",
              "      <th>framerate</th>\n",
              "      <th>i_size</th>\n",
              "      <th>p_size</th>\n",
              "      <th>size</th>\n",
              "      <th>o_bitrate</th>\n",
              "      <th>o_framerate</th>\n",
              "      <th>o_width</th>\n",
              "      <th>o_height</th>\n",
              "      <th>umem</th>\n",
              "      <th>codec_flv</th>\n",
              "      <th>codec_h264</th>\n",
              "      <th>codec_mpeg4</th>\n",
              "      <th>codec_vp8</th>\n",
              "    </tr>\n",
              "  </thead>\n",
              "  <tbody>\n",
              "    <tr>\n",
              "      <th>0</th>\n",
              "      <td>176</td>\n",
              "      <td>144</td>\n",
              "      <td>54590</td>\n",
              "      <td>12.0</td>\n",
              "      <td>64483</td>\n",
              "      <td>825054</td>\n",
              "      <td>889537</td>\n",
              "      <td>56000</td>\n",
              "      <td>12.0</td>\n",
              "      <td>176</td>\n",
              "      <td>144</td>\n",
              "      <td>22508</td>\n",
              "      <td>0</td>\n",
              "      <td>0</td>\n",
              "      <td>1</td>\n",
              "      <td>0</td>\n",
              "    </tr>\n",
              "    <tr>\n",
              "      <th>1</th>\n",
              "      <td>176</td>\n",
              "      <td>144</td>\n",
              "      <td>54590</td>\n",
              "      <td>12.0</td>\n",
              "      <td>64483</td>\n",
              "      <td>825054</td>\n",
              "      <td>889537</td>\n",
              "      <td>56000</td>\n",
              "      <td>12.0</td>\n",
              "      <td>320</td>\n",
              "      <td>240</td>\n",
              "      <td>25164</td>\n",
              "      <td>0</td>\n",
              "      <td>0</td>\n",
              "      <td>1</td>\n",
              "      <td>0</td>\n",
              "    </tr>\n",
              "    <tr>\n",
              "      <th>2</th>\n",
              "      <td>176</td>\n",
              "      <td>144</td>\n",
              "      <td>54590</td>\n",
              "      <td>12.0</td>\n",
              "      <td>64483</td>\n",
              "      <td>825054</td>\n",
              "      <td>889537</td>\n",
              "      <td>56000</td>\n",
              "      <td>12.0</td>\n",
              "      <td>480</td>\n",
              "      <td>360</td>\n",
              "      <td>29228</td>\n",
              "      <td>0</td>\n",
              "      <td>0</td>\n",
              "      <td>1</td>\n",
              "      <td>0</td>\n",
              "    </tr>\n",
              "    <tr>\n",
              "      <th>3</th>\n",
              "      <td>176</td>\n",
              "      <td>144</td>\n",
              "      <td>54590</td>\n",
              "      <td>12.0</td>\n",
              "      <td>64483</td>\n",
              "      <td>825054</td>\n",
              "      <td>889537</td>\n",
              "      <td>56000</td>\n",
              "      <td>12.0</td>\n",
              "      <td>640</td>\n",
              "      <td>480</td>\n",
              "      <td>34316</td>\n",
              "      <td>0</td>\n",
              "      <td>0</td>\n",
              "      <td>1</td>\n",
              "      <td>0</td>\n",
              "    </tr>\n",
              "    <tr>\n",
              "      <th>4</th>\n",
              "      <td>176</td>\n",
              "      <td>144</td>\n",
              "      <td>54590</td>\n",
              "      <td>12.0</td>\n",
              "      <td>64483</td>\n",
              "      <td>825054</td>\n",
              "      <td>889537</td>\n",
              "      <td>56000</td>\n",
              "      <td>12.0</td>\n",
              "      <td>1280</td>\n",
              "      <td>720</td>\n",
              "      <td>58528</td>\n",
              "      <td>0</td>\n",
              "      <td>0</td>\n",
              "      <td>1</td>\n",
              "      <td>0</td>\n",
              "    </tr>\n",
              "  </tbody>\n",
              "</table>\n",
              "</div>"
            ],
            "text/plain": [
              "   width  height  bitrate  ...  codec_h264  codec_mpeg4  codec_vp8\n",
              "0    176     144    54590  ...           0            1          0\n",
              "1    176     144    54590  ...           0            1          0\n",
              "2    176     144    54590  ...           0            1          0\n",
              "3    176     144    54590  ...           0            1          0\n",
              "4    176     144    54590  ...           0            1          0\n",
              "\n",
              "[5 rows x 16 columns]"
            ]
          },
          "metadata": {
            "tags": []
          },
          "execution_count": 11
        }
      ]
    },
    {
      "cell_type": "markdown",
      "metadata": {
        "id": "NhVEfp9uS4TJ"
      },
      "source": [
        "### 2.5. Scaling "
      ]
    },
    {
      "cell_type": "code",
      "metadata": {
        "id": "rUjOd-UEo-6l",
        "outputId": "2308d5ab-4f92-4433-df87-8e715b7be376",
        "colab": {
          "base_uri": "https://localhost:8080/",
          "height": 0
        }
      },
      "source": [
        "from sklearn.preprocessing import MinMaxScaler\n",
        "scaler = MinMaxScaler()\n",
        "X = scaler.fit_transform(features)\n",
        "print(\"Feture Matrix X with shape:\",X.shape,\"\\n\",X)\n",
        "\n",
        "Y = scaler.fit_transform(target)\n",
        "print(\"\\nTarget Array Y with shape:\",Y.shape,\"\\n\",Y)"
      ],
      "execution_count": 12,
      "outputs": [
        {
          "output_type": "stream",
          "text": [
            "Feture Matrix X with shape: (68784, 16) \n",
            " [[0.         0.         0.00606371 ... 0.         1.         0.        ]\n",
            " [0.         0.         0.00606371 ... 0.         1.         0.        ]\n",
            " [0.         0.         0.00606371 ... 0.         1.         0.        ]\n",
            " ...\n",
            " [0.08256881 0.1025641  0.04605738 ... 0.         0.         1.        ]\n",
            " [0.63302752 0.61538462 0.37258851 ... 1.         0.         0.        ]\n",
            " [0.         0.         0.00614928 ... 0.         1.         0.        ]]\n",
            "\n",
            "Target Array Y with shape: (68784, 1) \n",
            " [[0.00190739]\n",
            " [0.0035474 ]\n",
            " [0.00459914]\n",
            " ...\n",
            " [0.00253131]\n",
            " [0.02344133]\n",
            " [0.01288827]]\n"
          ],
          "name": "stdout"
        }
      ]
    },
    {
      "cell_type": "markdown",
      "metadata": {
        "id": "pPeQ3ApETFuL"
      },
      "source": [
        "### 2.6. Train and Test Split"
      ]
    },
    {
      "cell_type": "code",
      "metadata": {
        "id": "77zkoEUURvXw"
      },
      "source": [
        "from sklearn.model_selection import train_test_split\n",
        "\n",
        "x_train, x_test, y_train, y_test = train_test_split(features, target,test_size = 0.3, random_state=0)\n",
        "\n",
        "scores = dict()  #dictionary for storing test scores"
      ],
      "execution_count": 13,
      "outputs": []
    },
    {
      "cell_type": "markdown",
      "metadata": {
        "id": "XThlwIM4TgP3"
      },
      "source": [
        "## 3. Implementing Regression Techniques"
      ]
    },
    {
      "cell_type": "markdown",
      "metadata": {
        "id": "c5JKE5nYdfod"
      },
      "source": [
        "### 3.1. Linear Regression"
      ]
    },
    {
      "cell_type": "code",
      "metadata": {
        "id": "jOIgJVHMSRoD",
        "outputId": "5e545c94-f15a-4551-c9fb-c719c4d88514",
        "colab": {
          "base_uri": "https://localhost:8080/",
          "height": 35
        }
      },
      "source": [
        "from sklearn.linear_model import LinearRegression\n",
        "\n",
        "lr = LinearRegression()\n",
        "lr.fit(x_train,y_train)\n",
        "lr_score = lr.score(x_test,y_test)\n",
        "\n",
        "print(\"Linear Regression Score:{:.4f}\".format(lr_score) )\n",
        "scores['Linear Reg'] = lr_score\n"
      ],
      "execution_count": 14,
      "outputs": [
        {
          "output_type": "stream",
          "text": [
            "Linear Regression Score:0.5727\n"
          ],
          "name": "stdout"
        }
      ]
    },
    {
      "cell_type": "markdown",
      "metadata": {
        "id": "HSGFgEaadiR0"
      },
      "source": [
        "### 3.2. Polynomial Regression"
      ]
    },
    {
      "cell_type": "code",
      "metadata": {
        "id": "KlYWRE2MSbwO",
        "outputId": "ba5b126b-a0d7-429e-8e69-ad36e15830ef",
        "colab": {
          "base_uri": "https://localhost:8080/",
          "height": 35
        }
      },
      "source": [
        "from sklearn.linear_model import LinearRegression\n",
        "from sklearn.preprocessing import PolynomialFeatures\n",
        "\n",
        "\n",
        "poly = PolynomialFeatures(degree=2)\n",
        "train_x_poly = poly.fit_transform(x_train)\n",
        "\n",
        "pr = LinearRegression()\n",
        "pr.fit(train_x_poly, y_train)\n",
        "\n",
        "x_test_poly = poly.fit_transform(x_test)\n",
        "pr_score = pr.score(x_test_poly,y_test)\n",
        "\n",
        "print(\"Polynomial Regression Score:{:.4f}\".format(pr_score) )\n",
        "scores['Polynomial Reg'] = pr_score\n"
      ],
      "execution_count": 15,
      "outputs": [
        {
          "output_type": "stream",
          "text": [
            "Polynomial Regression Score:0.3877\n"
          ],
          "name": "stdout"
        }
      ]
    },
    {
      "cell_type": "markdown",
      "metadata": {
        "id": "bhedeBkedbdl"
      },
      "source": [
        "### 3.3. Ridge Regression"
      ]
    },
    {
      "cell_type": "code",
      "metadata": {
        "id": "pt1n6graS5tI",
        "outputId": "f36b69e3-e755-4c62-9315-d4e3b0f1a3a0",
        "colab": {
          "base_uri": "https://localhost:8080/",
          "height": 70
        }
      },
      "source": [
        "from sklearn.linear_model import Ridge\n",
        "\n",
        "rr = Ridge(alpha=1.0)\n",
        "rr.fit(x_train, y_train)\n",
        "rr_score = rr.score(x_test,y_test)\n",
        "\n",
        "print(\"Ridge Regression Score:{:.4f}\".format(rr_score) )\n",
        "scores['Ridge Reg'] = rr_score\n"
      ],
      "execution_count": 16,
      "outputs": [
        {
          "output_type": "stream",
          "text": [
            "Ridge Regression Score:0.5727\n"
          ],
          "name": "stdout"
        },
        {
          "output_type": "stream",
          "text": [
            "/usr/local/lib/python3.6/dist-packages/sklearn/linear_model/_ridge.py:148: LinAlgWarning: Ill-conditioned matrix (rcond=3.4794e-21): result may not be accurate.\n",
            "  overwrite_a=True).T\n"
          ],
          "name": "stderr"
        }
      ]
    },
    {
      "cell_type": "markdown",
      "metadata": {
        "id": "wbke3VEmdXIT"
      },
      "source": [
        "### 3.4. K Neighbors Regressor"
      ]
    },
    {
      "cell_type": "code",
      "metadata": {
        "id": "6YQWwlihUi6r"
      },
      "source": [
        "from sklearn.neighbors import KNeighborsRegressor\n",
        "neighbors = range(1, 10)\n",
        "\n",
        "training_scores = []\n",
        "test_scores = []\n",
        "for n_neighbors in neighbors:\n",
        "    knn = KNeighborsRegressor(n_neighbors=n_neighbors).fit(x_train, y_train)\n",
        "    training_scores.append(knn.score(x_train, y_train))\n",
        "    test_scores.append(knn.score(x_test, y_test))"
      ],
      "execution_count": 17,
      "outputs": []
    },
    {
      "cell_type": "code",
      "metadata": {
        "id": "h0hcaTwbU2-H",
        "outputId": "5f0ab9f6-62ab-4306-97a1-32f011a92da1",
        "colab": {
          "base_uri": "https://localhost:8080/",
          "height": 298
        }
      },
      "source": [
        "plt.figure()\n",
        "plt.plot(neighbors, training_scores, label=\"training scores\")\n",
        "plt.plot(neighbors, test_scores, label=\"test scores\")\n",
        "plt.ylabel(\"accuracy\")\n",
        "plt.xlabel(\"n_neighbors\")\n",
        "plt.legend()"
      ],
      "execution_count": 18,
      "outputs": [
        {
          "output_type": "execute_result",
          "data": {
            "text/plain": [
              "<matplotlib.legend.Legend at 0x7fb16b6b8668>"
            ]
          },
          "metadata": {
            "tags": []
          },
          "execution_count": 18
        },
        {
          "output_type": "display_data",
          "data": {
            "image/png": "[encoded data removed]",
            "text/plain": [
              "<Figure size 432x288 with 1 Axes>"
            ]
          },
          "metadata": {
            "tags": [],
            "needs_background": "light"
          }
        }
      ]
    },
    {
      "cell_type": "code",
      "metadata": {
        "id": "V02UUDRUVK0X",
        "outputId": "5c02f3a8-aa46-4ec9-f4a1-9beadb7a1b63",
        "colab": {
          "base_uri": "https://localhost:8080/",
          "height": 35
        }
      },
      "source": [
        "knn = KNeighborsRegressor(n_neighbors=3)\n",
        "knn.fit(x_train, y_train)\n",
        "knn_score = knn.score(x_test,y_test)\n",
        "\n",
        "print(\"K Neighbors Regressor Score:{:.4f}\".format(knn_score) )\n",
        "scores['KNN Reg'] = knn_score"
      ],
      "execution_count": 19,
      "outputs": [
        {
          "output_type": "stream",
          "text": [
            "K Neighbors Regressor Score:0.7640\n"
          ],
          "name": "stdout"
        }
      ]
    },
    {
      "cell_type": "markdown",
      "metadata": {
        "id": "OofvVcdIW4pk"
      },
      "source": [
        "### 3.5. SVR "
      ]
    },
    {
      "cell_type": "code",
      "metadata": {
        "id": "kyQ6beeKVtRO",
        "outputId": "641bfc1b-d37d-4057-8b1c-10baa68bb4f6",
        "colab": {
          "base_uri": "https://localhost:8080/",
          "height": 35
        }
      },
      "source": [
        "from sklearn.svm import SVR\n",
        "svr = SVR()\n",
        "svr.fit(x_train, y_train.values.ravel())   #It may take some time\n",
        "svr_score = knn.score(x_test,y_test)\n",
        "\n",
        "print(\"SVR Score:{:.4f}\".format(svr_score) )\n",
        "scores['SVR Reg'] = svr_score\n"
      ],
      "execution_count": 20,
      "outputs": [
        {
          "output_type": "stream",
          "text": [
            "SVR Score:0.7640\n"
          ],
          "name": "stdout"
        }
      ]
    },
    {
      "cell_type": "markdown",
      "metadata": {
        "id": "pedsUHpWWX6P"
      },
      "source": [
        "### 3.6. Stochastic Gradient Descent Regressor"
      ]
    },
    {
      "cell_type": "code",
      "metadata": {
        "id": "vpsWtCR4V_6S",
        "outputId": "9905cb84-15c4-4cee-f216-790916241189",
        "colab": {
          "base_uri": "https://localhost:8080/",
          "height": 35
        }
      },
      "source": [
        "from sklearn.linear_model import SGDRegressor\n",
        "sgd = SGDRegressor()\n",
        "sgd.fit(x_train, y_train.values.ravel())\n",
        "sgd_score = sgd.score(x_test,y_test)\n",
        "\n",
        "print(\"SGD Regressor Score:{:.4f}\".format(sgd_score) )\n",
        "scores['SGD Reg'] = sgd_score"
      ],
      "execution_count": 21,
      "outputs": [
        {
          "output_type": "stream",
          "text": [
            "SGD Regressor Score:-13894881144015551426496079879835614598425214976.0000\n"
          ],
          "name": "stdout"
        }
      ]
    },
    {
      "cell_type": "markdown",
      "metadata": {
        "id": "OaNucoC0WUPp"
      },
      "source": [
        "### 3.7. Decision Tree Regressor "
      ]
    },
    {
      "cell_type": "code",
      "metadata": {
        "id": "Tsp60uLqWQjE",
        "outputId": "8abc7551-eb8f-40f0-b030-776f6b6ce9ea",
        "colab": {
          "base_uri": "https://localhost:8080/",
          "height": 35
        }
      },
      "source": [
        "from sklearn.tree import DecisionTreeRegressor\n",
        "dtr = DecisionTreeRegressor()\n",
        "dtr.fit(x_train, y_train)\n",
        "dtr_score = dtr.score(x_test,y_test)\n",
        "\n",
        "print(\"Decision Tree Regressor Score:{:.4f}\".format(dtr_score) )\n",
        "scores['Decision Tree Reg'] = dtr_score"
      ],
      "execution_count": 22,
      "outputs": [
        {
          "output_type": "stream",
          "text": [
            "Decision Tree Regressor Score:0.7138\n"
          ],
          "name": "stdout"
        }
      ]
    },
    {
      "cell_type": "markdown",
      "metadata": {
        "id": "wOebhLhDWZyq"
      },
      "source": [
        "### 3.8. Random Forest Regressor"
      ]
    },
    {
      "cell_type": "code",
      "metadata": {
        "id": "EQgNIBi8WjK-",
        "outputId": "4e630c03-880e-4939-dc14-20fd20ad2bea",
        "colab": {
          "base_uri": "https://localhost:8080/",
          "height": 35
        }
      },
      "source": [
        "from sklearn.ensemble import RandomForestRegressor\n",
        "rfr = RandomForestRegressor()\n",
        "rfr.fit(x_train, y_train.values.ravel())\n",
        "rfr_score = rfr.score(x_test,y_test)\n",
        "\n",
        "print(\"Random Forest Regressor Score:{:.4f}\".format(rfr_score) )\n",
        "scores['Random Forest Reg'] = rfr_score\n"
      ],
      "execution_count": 23,
      "outputs": [
        {
          "output_type": "stream",
          "text": [
            "Random Forest Regressor Score:0.7852\n"
          ],
          "name": "stdout"
        }
      ]
    },
    {
      "cell_type": "markdown",
      "metadata": {
        "id": "ktKkvOAqWl3V"
      },
      "source": [
        "### 3.9. Gradient Boosting Regressor"
      ]
    },
    {
      "cell_type": "code",
      "metadata": {
        "id": "iKAEZ5D0WlQi",
        "outputId": "55d0b904-dc4e-49c8-81f8-baf28ec30636",
        "colab": {
          "base_uri": "https://localhost:8080/",
          "height": 35
        }
      },
      "source": [
        "from sklearn.ensemble import GradientBoostingRegressor\n",
        "gbr = GradientBoostingRegressor()\n",
        "gbr.fit(x_train, y_train.values.ravel())\n",
        "gbr_score = gbr.score(x_test,y_test)\n",
        "\n",
        "print(\"Gradient Boosting Regressor Score:{:.4f}\".format(gbr_score) )\n",
        "scores['Gradient Boosting Reg'] = gbr_score"
      ],
      "execution_count": 24,
      "outputs": [
        {
          "output_type": "stream",
          "text": [
            "Gradient Boosting Regressor Score:0.8309\n"
          ],
          "name": "stdout"
        }
      ]
    },
    {
      "cell_type": "markdown",
      "metadata": {
        "id": "FmgTVmDdWsPE"
      },
      "source": [
        "### 3.10. XG Boost Regressor"
      ]
    },
    {
      "cell_type": "code",
      "metadata": {
        "id": "vqxS1FP4Wrgj",
        "outputId": "0c46f1bd-de04-4a48-cc46-2baf8c40b572",
        "colab": {
          "base_uri": "https://localhost:8080/",
          "height": 35
        }
      },
      "source": [
        "from xgboost import XGBRegressor\n",
        "xgb = XGBRegressor(silent=True)\n",
        "xgb.fit(x_train,y_train)\n",
        "xgb_score = xgb.score(x_test,y_test)\n",
        "\n",
        "print(\"XG Boost Regressor Score:{:.4f}\".format(xgb_score) )\n",
        "scores['XG Boost Reg'] = xgb_score"
      ],
      "execution_count": 25,
      "outputs": [
        {
          "output_type": "stream",
          "text": [
            "XG Boost Regressor Score:0.8302\n"
          ],
          "name": "stdout"
        }
      ]
    },
    {
      "cell_type": "markdown",
      "metadata": {
        "id": "K9_i6fT9XA6T"
      },
      "source": [
        "### 3.11. Extra Tree Regressor"
      ]
    },
    {
      "cell_type": "code",
      "metadata": {
        "id": "3EO3eaovXAFl",
        "outputId": "0499ebe3-2cec-4c82-de7a-f6a1260f5bb0",
        "colab": {
          "base_uri": "https://localhost:8080/",
          "height": 35
        }
      },
      "source": [
        "from sklearn.ensemble import ExtraTreesRegressor\n",
        "etr = ExtraTreesRegressor()\n",
        "etr.fit(x_train, y_train.values.ravel())\n",
        "etr_score = etr.score(x_test,y_test)\n",
        "\n",
        "print(\"Exra Tree Regressor Score:{:.4f}\".format(etr_score) )\n",
        "scores['Extra Tree Reg'] = etr_score"
      ],
      "execution_count": 26,
      "outputs": [
        {
          "output_type": "stream",
          "text": [
            "Exra Tree Regressor Score:0.7196\n"
          ],
          "name": "stdout"
        }
      ]
    },
    {
      "cell_type": "markdown",
      "metadata": {
        "id": "VkXTdANRXEU_"
      },
      "source": [
        "### 3.12. Voting Regressor "
      ]
    },
    {
      "cell_type": "code",
      "metadata": {
        "id": "I5i8R1-EXG8g",
        "outputId": "04eaccd5-1d57-4b72-9d9a-6bd19405c530",
        "colab": {
          "base_uri": "https://localhost:8080/",
          "height": 35
        }
      },
      "source": [
        "from sklearn.ensemble import VotingRegressor\n",
        "vr = VotingRegressor(estimators=[('rfr', rfr), ('gbr', gbr), ('xgb', xgb)])\n",
        "vr.fit(x_train,y_train.values.ravel())\n",
        "vr_score = vr.score(x_test,y_test)\n",
        "\n",
        "print(\"Voting Regressor Score:{:.4f}\".format(vr_score) )\n",
        "scores['Voting Reg'] = vr_score"
      ],
      "execution_count": 27,
      "outputs": [
        {
          "output_type": "stream",
          "text": [
            "Voting Regressor Score:0.8303\n"
          ],
          "name": "stdout"
        }
      ]
    },
    {
      "cell_type": "markdown",
      "metadata": {
        "id": "Yr5ifZT6Cl5o"
      },
      "source": [
        "## 4. Results"
      ]
    },
    {
      "cell_type": "code",
      "metadata": {
        "id": "KEMX_0JfI0qG"
      },
      "source": [
        "del scores['SGD Reg']   #SGD Reg was not eligible"
      ],
      "execution_count": 28,
      "outputs": []
    },
    {
      "cell_type": "code",
      "metadata": {
        "id": "2qXVHV2OIP1H",
        "outputId": "570eb712-3aa9-4c13-ae74-7ff9d1cba50a",
        "colab": {
          "base_uri": "https://localhost:8080/",
          "height": 452
        }
      },
      "source": [
        "x = list(scores.keys())\n",
        "y = list(scores.values())\n",
        "\n",
        "fig = plt.figure(figsize=(15,5))\n",
        "ax = sns.barplot(x,y)\n",
        "plt.xticks(rotation=45)\n",
        "plt.show()"
      ],
      "execution_count": 29,
      "outputs": [
        {
          "output_type": "stream",
          "text": [
            "/usr/local/lib/python3.6/dist-packages/seaborn/_decorators.py:43: FutureWarning: Pass the following variables as keyword args: x, y. From version 0.12, the only valid positional argument will be `data`, and passing other arguments without an explicit keyword will result in an error or misinterpretation.\n",
            "  FutureWarning\n"
          ],
          "name": "stderr"
        },
        {
          "output_type": "display_data",
          "data": {
            "image/png": "[encoded data removed]",
            "text/plain": [
              "<Figure size 1080x360 with 1 Axes>"
            ]
          },
          "metadata": {
            "tags": [],
            "needs_background": "light"
          }
        }
      ]
    },
    {
      "cell_type": "code",
      "metadata": {
        "id": "t0mQ8xx711tK",
        "outputId": "08b66bd7-c362-40f7-c8c4-aa6a800de3ea",
        "colab": {
          "base_uri": "https://localhost:8080/",
          "height": 76
        }
      },
      "source": [
        "pd.DataFrame(data=(y),index=x,columns=['scores']).transpose()"
      ],
      "execution_count": 30,
      "outputs": [
        {
          "output_type": "execute_result",
          "data": {
            "text/html": [
              "<div>\n",
              "<style scoped>\n",
              "    .dataframe tbody tr th:only-of-type {\n",
              "        vertical-align: middle;\n",
              "    }\n",
              "\n",
              "    .dataframe tbody tr th {\n",
              "        vertical-align: top;\n",
              "    }\n",
              "\n",
              "    .dataframe thead th {\n",
              "        text-align: right;\n",
              "    }\n",
              "</style>\n",
              "<table border=\"1\" class=\"dataframe\">\n",
              "  <thead>\n",
              "    <tr style=\"text-align: right;\">\n",
              "      <th></th>\n",
              "      <th>Linear Reg</th>\n",
              "      <th>Polynomial Reg</th>\n",
              "      <th>Ridge Reg</th>\n",
              "      <th>KNN Reg</th>\n",
              "      <th>SVR Reg</th>\n",
              "      <th>Decision Tree Reg</th>\n",
              "      <th>Random Forest Reg</th>\n",
              "      <th>Gradient Boosting Reg</th>\n",
              "      <th>XG Boost Reg</th>\n",
              "      <th>Extra Tree Reg</th>\n",
              "      <th>Voting Reg</th>\n",
              "    </tr>\n",
              "  </thead>\n",
              "  <tbody>\n",
              "    <tr>\n",
              "      <th>scores</th>\n",
              "      <td>0.57266</td>\n",
              "      <td>0.387664</td>\n",
              "      <td>0.57266</td>\n",
              "      <td>0.764002</td>\n",
              "      <td>0.764002</td>\n",
              "      <td>0.713796</td>\n",
              "      <td>0.785157</td>\n",
              "      <td>0.830925</td>\n",
              "      <td>0.830242</td>\n",
              "      <td>0.719637</td>\n",
              "      <td>0.830308</td>\n",
              "    </tr>\n",
              "  </tbody>\n",
              "</table>\n",
              "</div>"
            ],
            "text/plain": [
              "        Linear Reg  Polynomial Reg  ...  Extra Tree Reg  Voting Reg\n",
              "scores     0.57266        0.387664  ...        0.719637    0.830308\n",
              "\n",
              "[1 rows x 11 columns]"
            ]
          },
          "metadata": {
            "tags": []
          },
          "execution_count": 30
        }
      ]
    }
  ]
}